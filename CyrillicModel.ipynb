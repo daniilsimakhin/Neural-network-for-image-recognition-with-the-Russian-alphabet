version https://git-lfs.github.com/spec/v1
oid sha256:e343660ed385dc4f8646d1ee41cc053ed1e543c7a457b10c17b7a9828a86dbc9
size 27418
